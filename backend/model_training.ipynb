{
 "cells": [
  {
   "cell_type": "code",
   "execution_count": 1,
   "id": "85b3b301-bedf-43ca-b342-7e6ca1c58f70",
   "metadata": {},
   "outputs": [
    {
     "name": "stdout",
     "output_type": "stream",
     "text": [
      "Libraries imported successfully!\n"
     ]
    }
   ],
   "source": [
    "import pandas as pd\n",
    "import numpy as np\n",
    "import pickle\n",
    "from sklearn.model_selection import train_test_split\n",
    "from sklearn.ensemble import GradientBoostingClassifier\n",
    "from sklearn.metrics import classification_report\n",
    "\n",
    "print(\"Libraries imported successfully!\")"
   ]
  },
  {
   "cell_type": "code",
   "execution_count": 2,
   "id": "20f66823-a633-4e2b-b3b8-8c23b9a314e3",
   "metadata": {},
   "outputs": [
    {
     "name": "stdout",
     "output_type": "stream",
     "text": [
      "Synthetic DataFrame created with shape: (1000, 8)\n"
     ]
    },
    {
     "data": {
      "text/html": [
       "<div>\n",
       "<style scoped>\n",
       "    .dataframe tbody tr th:only-of-type {\n",
       "        vertical-align: middle;\n",
       "    }\n",
       "\n",
       "    .dataframe tbody tr th {\n",
       "        vertical-align: top;\n",
       "    }\n",
       "\n",
       "    .dataframe thead th {\n",
       "        text-align: right;\n",
       "    }\n",
       "</style>\n",
       "<table border=\"1\" class=\"dataframe\">\n",
       "  <thead>\n",
       "    <tr style=\"text-align: right;\">\n",
       "      <th></th>\n",
       "      <th>debtToEquity</th>\n",
       "      <th>returnOnAssets</th>\n",
       "      <th>grossMargin</th>\n",
       "      <th>operatingMargin</th>\n",
       "      <th>marketCap</th>\n",
       "      <th>GDP_latest</th>\n",
       "      <th>FED_funds_latest</th>\n",
       "      <th>news_sentiment</th>\n",
       "    </tr>\n",
       "  </thead>\n",
       "  <tbody>\n",
       "    <tr>\n",
       "      <th>0</th>\n",
       "      <td>112.362036</td>\n",
       "      <td>-0.025947</td>\n",
       "      <td>0.309365</td>\n",
       "      <td>0.270892</td>\n",
       "      <td>1.026608e+12</td>\n",
       "      <td>28365.330368</td>\n",
       "      <td>3.391532</td>\n",
       "      <td>-5</td>\n",
       "    </tr>\n",
       "    <tr>\n",
       "      <th>1</th>\n",
       "      <td>285.214292</td>\n",
       "      <td>0.116760</td>\n",
       "      <td>0.297583</td>\n",
       "      <td>0.357677</td>\n",
       "      <td>1.347071e+11</td>\n",
       "      <td>20819.154548</td>\n",
       "      <td>5.436900</td>\n",
       "      <td>2</td>\n",
       "    </tr>\n",
       "    <tr>\n",
       "      <th>2</th>\n",
       "      <td>219.598183</td>\n",
       "      <td>0.249178</td>\n",
       "      <td>0.825004</td>\n",
       "      <td>-0.024672</td>\n",
       "      <td>2.140720e+10</td>\n",
       "      <td>34577.679520</td>\n",
       "      <td>5.106346</td>\n",
       "      <td>-6</td>\n",
       "    </tr>\n",
       "    <tr>\n",
       "      <th>3</th>\n",
       "      <td>179.597545</td>\n",
       "      <td>0.192890</td>\n",
       "      <td>0.299637</td>\n",
       "      <td>0.237412</td>\n",
       "      <td>1.792072e+11</td>\n",
       "      <td>27689.228662</td>\n",
       "      <td>4.252192</td>\n",
       "      <td>4</td>\n",
       "    </tr>\n",
       "    <tr>\n",
       "      <th>4</th>\n",
       "      <td>46.805592</td>\n",
       "      <td>0.222624</td>\n",
       "      <td>0.317560</td>\n",
       "      <td>0.200222</td>\n",
       "      <td>2.874758e+10</td>\n",
       "      <td>24363.152813</td>\n",
       "      <td>5.453554</td>\n",
       "      <td>7</td>\n",
       "    </tr>\n",
       "  </tbody>\n",
       "</table>\n",
       "</div>"
      ],
      "text/plain": [
       "   debtToEquity  returnOnAssets  grossMargin  operatingMargin     marketCap  \\\n",
       "0    112.362036       -0.025947     0.309365         0.270892  1.026608e+12   \n",
       "1    285.214292        0.116760     0.297583         0.357677  1.347071e+11   \n",
       "2    219.598183        0.249178     0.825004        -0.024672  2.140720e+10   \n",
       "3    179.597545        0.192890     0.299637         0.237412  1.792072e+11   \n",
       "4     46.805592        0.222624     0.317560         0.200222  2.874758e+10   \n",
       "\n",
       "     GDP_latest  FED_funds_latest  news_sentiment  \n",
       "0  28365.330368          3.391532              -5  \n",
       "1  20819.154548          5.436900               2  \n",
       "2  34577.679520          5.106346              -6  \n",
       "3  27689.228662          4.252192               4  \n",
       "4  24363.152813          5.453554               7  "
      ]
     },
     "execution_count": 2,
     "metadata": {},
     "output_type": "execute_result"
    }
   ],
   "source": [
    "np.random.seed(42)\n",
    "num_samples = 1000\n",
    "\n",
    "data = {\n",
    "    'debtToEquity': np.random.uniform(0, 300, num_samples),\n",
    "    'returnOnAssets': np.random.uniform(-0.1, 0.3, num_samples),\n",
    "    'grossMargin': np.random.uniform(0.1, 0.9, num_samples),\n",
    "    'operatingMargin': np.random.uniform(-0.2, 0.5, num_samples),\n",
    "    'marketCap': np.random.lognormal(25, 2, num_samples),\n",
    "    'GDP_latest': np.random.uniform(20000, 35000, num_samples),\n",
    "    'FED_funds_latest': np.random.uniform(3.0, 5.5, num_samples),\n",
    "    'news_sentiment': np.random.randint(-10, 10, num_samples)\n",
    "}\n",
    "\n",
    "df = pd.DataFrame(data)\n",
    "\n",
    "print(\"Synthetic DataFrame created with shape:\", df.shape)\n",
    "df.head()"
   ]
  },
  {
   "cell_type": "code",
   "execution_count": 3,
   "id": "d9da5808-1b19-49f4-808d-387382c4add5",
   "metadata": {},
   "outputs": [
    {
     "name": "stdout",
     "output_type": "stream",
     "text": [
      "Target label 'credit_worthiness' created.\n",
      "Distribution of labels:\n",
      "credit_worthiness\n",
      "0    867\n",
      "1    133\n",
      "Name: count, dtype: int64\n"
     ]
    }
   ],
   "source": [
    "# Define what makes a 'good' company in our synthetic world\n",
    "conditions = [\n",
    "    (df['grossMargin'] > 0.4) & (df['debtToEquity'] < 100) & (df['returnOnAssets'] > 0.05) & (df['news_sentiment'] >= 0),\n",
    "    (df['grossMargin'] > 0.6) & (df['debtToEquity'] < 150) & (df['returnOnAssets'] > 0.1)\n",
    "]\n",
    "\n",
    "df['credit_worthiness'] = np.where(np.logical_or.reduce(conditions), 1, 0)\n",
    "\n",
    "print(\"Target label 'credit_worthiness' created.\")\n",
    "print(\"Distribution of labels:\")\n",
    "print(df['credit_worthiness'].value_counts())"
   ]
  },
  {
   "cell_type": "code",
   "execution_count": 4,
   "id": "97331b6e-30cb-4b16-a0a4-fa0c2f90481e",
   "metadata": {},
   "outputs": [
    {
     "name": "stdout",
     "output_type": "stream",
     "text": [
      "              precision    recall  f1-score   support\n",
      "\n",
      "           0       0.99      0.99      0.99       173\n",
      "           1       0.96      0.96      0.96        27\n",
      "\n",
      "    accuracy                           0.99       200\n",
      "   macro avg       0.98      0.98      0.98       200\n",
      "weighted avg       0.99      0.99      0.99       200\n",
      "\n"
     ]
    }
   ],
   "source": [
    "X = df.drop('credit_worthiness', axis=1)\n",
    "y = df['credit_worthiness']\n",
    "\n",
    "X_train, X_test, y_train, y_test = train_test_split(X, y, test_size=0.2, random_state=42, stratify=y)\n",
    "\n",
    "model = GradientBoostingClassifier(n_estimators=100, learning_rate=0.1, max_depth=3, random_state=42)\n",
    "model.fit(X_train, y_train)\n",
    "\n",
    "y_pred = model.predict(X_test)\n",
    "print(classification_report(y_test, y_pred))"
   ]
  },
  {
   "cell_type": "code",
   "execution_count": 5,
   "id": "4e7d9da2-6229-4645-a553-dc194f698ec6",
   "metadata": {},
   "outputs": [
    {
     "name": "stdout",
     "output_type": "stream",
     "text": [
      "Model saved successfully as model.pkl\n"
     ]
    }
   ],
   "source": [
    "with open('model.pkl', 'wb') as f:\n",
    "    pickle.dump(model, f)\n",
    "\n",
    "print(\"Model saved successfully as model.pkl\")"
   ]
  },
  {
   "cell_type": "code",
   "execution_count": null,
   "id": "370f4e78-7e60-4a5b-b740-a40788934888",
   "metadata": {},
   "outputs": [],
   "source": []
  }
 ],
 "metadata": {
  "kernelspec": {
   "display_name": "Python 3 (ipykernel)",
   "language": "python",
   "name": "python3"
  },
  "language_info": {
   "codemirror_mode": {
    "name": "ipython",
    "version": 3
   },
   "file_extension": ".py",
   "mimetype": "text/x-python",
   "name": "python",
   "nbconvert_exporter": "python",
   "pygments_lexer": "ipython3",
   "version": "3.12.4"
  }
 },
 "nbformat": 4,
 "nbformat_minor": 5
}
